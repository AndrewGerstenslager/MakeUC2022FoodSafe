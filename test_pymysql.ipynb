{
 "cells": [
  {
   "cell_type": "code",
   "execution_count": 4,
   "metadata": {},
   "outputs": [],
   "source": [
    "from pymysql import *"
   ]
  },
  {
   "cell_type": "code",
   "execution_count": 9,
   "metadata": {},
   "outputs": [
    {
     "ename": "OperationalError",
     "evalue": "(2003, \"Can't connect to MySQL server on 'database-1.cpgdtnokbuou.us-east-2.rds.amazonaws.com' (timed out)\")",
     "output_type": "error",
     "traceback": [
      "\u001b[1;31m---------------------------------------------------------------------------\u001b[0m",
      "\u001b[1;31mtimeout\u001b[0m                                   Traceback (most recent call last)",
      "File \u001b[1;32mc:\\Users\\andre\\anaconda3\\lib\\site-packages\\pymysql\\connections.py:613\u001b[0m, in \u001b[0;36mConnection.connect\u001b[1;34m(self, sock)\u001b[0m\n\u001b[0;32m    612\u001b[0m \u001b[39mtry\u001b[39;00m:\n\u001b[1;32m--> 613\u001b[0m     sock \u001b[39m=\u001b[39m socket\u001b[39m.\u001b[39;49mcreate_connection(\n\u001b[0;32m    614\u001b[0m         (\u001b[39mself\u001b[39;49m\u001b[39m.\u001b[39;49mhost, \u001b[39mself\u001b[39;49m\u001b[39m.\u001b[39;49mport), \u001b[39mself\u001b[39;49m\u001b[39m.\u001b[39;49mconnect_timeout, \u001b[39m*\u001b[39;49m\u001b[39m*\u001b[39;49mkwargs\n\u001b[0;32m    615\u001b[0m     )\n\u001b[0;32m    616\u001b[0m     \u001b[39mbreak\u001b[39;00m\n",
      "File \u001b[1;32mc:\\Users\\andre\\anaconda3\\lib\\socket.py:808\u001b[0m, in \u001b[0;36mcreate_connection\u001b[1;34m(address, timeout, source_address)\u001b[0m\n\u001b[0;32m    807\u001b[0m \u001b[39mtry\u001b[39;00m:\n\u001b[1;32m--> 808\u001b[0m     \u001b[39mraise\u001b[39;00m err\n\u001b[0;32m    809\u001b[0m \u001b[39mfinally\u001b[39;00m:\n\u001b[0;32m    810\u001b[0m     \u001b[39m# Break explicitly a reference cycle\u001b[39;00m\n",
      "File \u001b[1;32mc:\\Users\\andre\\anaconda3\\lib\\socket.py:796\u001b[0m, in \u001b[0;36mcreate_connection\u001b[1;34m(address, timeout, source_address)\u001b[0m\n\u001b[0;32m    795\u001b[0m     sock\u001b[39m.\u001b[39mbind(source_address)\n\u001b[1;32m--> 796\u001b[0m sock\u001b[39m.\u001b[39;49mconnect(sa)\n\u001b[0;32m    797\u001b[0m \u001b[39m# Break explicitly a reference cycle\u001b[39;00m\n",
      "\u001b[1;31mtimeout\u001b[0m: timed out",
      "\nDuring handling of the above exception, another exception occurred:\n",
      "\u001b[1;31mOperationalError\u001b[0m                          Traceback (most recent call last)",
      "\u001b[1;32mc:\\Users\\andre\\git_repos\\MakeUC2022\\test_pymysql.ipynb Cell 2\u001b[0m in \u001b[0;36m<module>\u001b[1;34m\u001b[0m\n\u001b[1;32m----> <a href='vscode-notebook-cell:/c%3A/Users/andre/git_repos/MakeUC2022/test_pymysql.ipynb#W1sZmlsZQ%3D%3D?line=0'>1</a>\u001b[0m connection \u001b[39m=\u001b[39m connect(   user\u001b[39m=\u001b[39;49m\u001b[39m'\u001b[39;49m\u001b[39madmin\u001b[39;49m\u001b[39m'\u001b[39;49m,\n\u001b[0;32m      <a href='vscode-notebook-cell:/c%3A/Users/andre/git_repos/MakeUC2022/test_pymysql.ipynb#W1sZmlsZQ%3D%3D?line=1'>2</a>\u001b[0m                     password\u001b[39m=\u001b[39;49m\u001b[39m'\u001b[39;49m\u001b[39mpassword\u001b[39;49m\u001b[39m'\u001b[39;49m,\n\u001b[0;32m      <a href='vscode-notebook-cell:/c%3A/Users/andre/git_repos/MakeUC2022/test_pymysql.ipynb#W1sZmlsZQ%3D%3D?line=2'>3</a>\u001b[0m                     host\u001b[39m=\u001b[39;49m\u001b[39m'\u001b[39;49m\u001b[39mdatabase-1.cpgdtnokbuou.us-east-2.rds.amazonaws.com\u001b[39;49m\u001b[39m'\u001b[39;49m,\n\u001b[0;32m      <a href='vscode-notebook-cell:/c%3A/Users/andre/git_repos/MakeUC2022/test_pymysql.ipynb#W1sZmlsZQ%3D%3D?line=3'>4</a>\u001b[0m                     database\u001b[39m=\u001b[39;49m\u001b[39m'\u001b[39;49m\u001b[39msys\u001b[39;49m\u001b[39m'\u001b[39;49m)\n",
      "File \u001b[1;32mc:\\Users\\andre\\anaconda3\\lib\\site-packages\\pymysql\\connections.py:353\u001b[0m, in \u001b[0;36mConnection.__init__\u001b[1;34m(self, user, password, host, database, unix_socket, port, charset, sql_mode, read_default_file, conv, use_unicode, client_flag, cursorclass, init_command, connect_timeout, read_default_group, autocommit, local_infile, max_allowed_packet, defer_connect, auth_plugin_map, read_timeout, write_timeout, bind_address, binary_prefix, program_name, server_public_key, ssl, ssl_ca, ssl_cert, ssl_disabled, ssl_key, ssl_verify_cert, ssl_verify_identity, compress, named_pipe, passwd, db)\u001b[0m\n\u001b[0;32m    351\u001b[0m     \u001b[39mself\u001b[39m\u001b[39m.\u001b[39m_sock \u001b[39m=\u001b[39m \u001b[39mNone\u001b[39;00m\n\u001b[0;32m    352\u001b[0m \u001b[39melse\u001b[39;00m:\n\u001b[1;32m--> 353\u001b[0m     \u001b[39mself\u001b[39;49m\u001b[39m.\u001b[39;49mconnect()\n",
      "File \u001b[1;32mc:\\Users\\andre\\anaconda3\\lib\\site-packages\\pymysql\\connections.py:664\u001b[0m, in \u001b[0;36mConnection.connect\u001b[1;34m(self, sock)\u001b[0m\n\u001b[0;32m    662\u001b[0m     \u001b[39mif\u001b[39;00m DEBUG:\n\u001b[0;32m    663\u001b[0m         \u001b[39mprint\u001b[39m(exc\u001b[39m.\u001b[39mtraceback)\n\u001b[1;32m--> 664\u001b[0m     \u001b[39mraise\u001b[39;00m exc\n\u001b[0;32m    666\u001b[0m \u001b[39m# If e is neither DatabaseError or IOError, It's a bug.\u001b[39;00m\n\u001b[0;32m    667\u001b[0m \u001b[39m# But raising AssertionError hides original error.\u001b[39;00m\n\u001b[0;32m    668\u001b[0m \u001b[39m# So just reraise it.\u001b[39;00m\n\u001b[0;32m    669\u001b[0m \u001b[39mraise\u001b[39;00m\n",
      "\u001b[1;31mOperationalError\u001b[0m: (2003, \"Can't connect to MySQL server on 'database-1.cpgdtnokbuou.us-east-2.rds.amazonaws.com' (timed out)\")"
     ]
    }
   ],
   "source": [
    "connection = connect(   user='admin',\n",
    "                    password='password',\n",
    "                    host='database-1.cpgdtnokbuou.us-east-2.rds.amazonaws.com',\n",
    "                    database='sys')"
   ]
  },
  {
   "cell_type": "code",
   "execution_count": null,
   "metadata": {},
   "outputs": [],
   "source": []
  }
 ],
 "metadata": {
  "kernelspec": {
   "display_name": "Python 3.8.5 ('base')",
   "language": "python",
   "name": "python3"
  },
  "language_info": {
   "codemirror_mode": {
    "name": "ipython",
    "version": 3
   },
   "file_extension": ".py",
   "mimetype": "text/x-python",
   "name": "python",
   "nbconvert_exporter": "python",
   "pygments_lexer": "ipython3",
   "version": "3.8.5"
  },
  "orig_nbformat": 4,
  "vscode": {
   "interpreter": {
    "hash": "c4f92193806e2908606a5f23edd55a5282f2f433b73b1c504507f9256ed9f0b4"
   }
  }
 },
 "nbformat": 4,
 "nbformat_minor": 2
}
